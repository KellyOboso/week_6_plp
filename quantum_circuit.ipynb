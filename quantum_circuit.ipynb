# Simple Quantum Circuit - IBM Quantum Experience / Qiskit

from qiskit import QuantumCircuit, execute, Aer

# ✅ Create a quantum circuit with 1 qubit and 1 classical bit
qc = QuantumCircuit(1, 1)

# ✅ Apply Hadamard gate (creates superposition)
qc.h(0)

# ✅ Measure
qc.measure(0, 0)

# ✅ Simulate
simulator = Aer.get_backend('qasm_simulator')
job = execute(qc, simulator, shots=1000)
result = job.result()
counts = result.get_counts(qc)

print("Counts:", counts)

# ✅ Draw circuit
qc.draw('mpl')
