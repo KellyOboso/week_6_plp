# Edge AI Prototype - Image Classifier

# Install if needed
# !pip install tensorflow matplotlib numpy

import tensorflow as tf
from tensorflow import keras
from tensorflow.keras import layers
import numpy as np
import matplotlib.pyplot as plt

# ✅ Load sample dataset (MNIST digits as placeholder for recyclable items)
mnist = keras.datasets.mnist
(x_train, y_train), (x_test, y_test) = mnist.load_data()

# Normalize data
x_train, x_test = x_train / 255.0, x_test / 255.0

# ✅ Define a simple lightweight model
model = keras.Sequential([
    layers.InputLayer(input_shape=(28, 28)),
    layers.Flatten(),
    layers.Dense(32, activation='relu'),
    layers.Dense(10, activation='softmax')
])

# ✅ Compile and train
model.compile(optimizer='adam',
              loss='sparse_categorical_crossentropy',
              metrics=['accuracy'])

model.fit(x_train, y_train, epochs=3, validation_split=0.1)

# ✅ Evaluate
test_loss, test_acc = model.evaluate(x_test, y_test)
print(f"Test accuracy: {test_acc:.4f}")

# ✅ Save model
model.save("edge_ai_model")

# ✅ Convert to TensorFlow Lite
converter = tf.lite.TFLiteConverter.from_saved_model("edge_ai_model")
tflite_model = converter.convert()

# ✅ Save the .tflite model
with open('edge_ai_model.tflite', 'wb') as f:
    f.write(tflite_model)

print("✅ TFLite model saved: edge_ai_model.tflite")
